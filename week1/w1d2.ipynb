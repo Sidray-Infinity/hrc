{
 "cells": [
  {
   "cell_type": "markdown",
   "metadata": {},
   "source": [
    "<h1>W1D2 Assignment 2 </h1>\n",
    "Siddharth Panda 1705919 (House Nairobi)\n",
    "<hr>"
   ]
  },
  {
   "cell_type": "code",
   "execution_count": 142,
   "metadata": {},
   "outputs": [],
   "source": [
    "import pandas as pd\n",
    "import numpy as np\n",
    "from numpy import nan\n",
    "import string\n",
    "import matplotlib.pyplot as plt\n",
    "%matplotlib inline"
   ]
  },
  {
   "cell_type": "markdown",
   "metadata": {},
   "source": [
    "### PANDAS"
   ]
  },
  {
   "cell_type": "markdown",
   "metadata": {},
   "source": [
    "#### Q1. Given a DataFrame of random numeric values, how do you subtract the row mean from each element in the row?"
   ]
  },
  {
   "cell_type": "code",
   "execution_count": 15,
   "metadata": {},
   "outputs": [
    {
     "name": "stdout",
     "output_type": "stream",
     "text": [
      "          0         1         2\n",
      "0  0.067126  0.775037  0.965151\n",
      "1  0.007681  0.892314  0.916975\n",
      "2  0.042377  0.743561  0.172481\n",
      "3  0.240249  0.976490  0.424567\n",
      "4  0.990968  0.529542  0.653899\n"
     ]
    }
   ],
   "source": [
    "df = pd.DataFrame(np.random.random(size=(5, 3)))\n",
    "print(df)"
   ]
  },
  {
   "cell_type": "code",
   "execution_count": 16,
   "metadata": {},
   "outputs": [
    {
     "name": "stdout",
     "output_type": "stream",
     "text": [
      "          0         1         2\n",
      "0 -0.535312  0.172599  0.362713\n",
      "1 -0.597976  0.286657  0.311319\n",
      "2 -0.277096  0.424088 -0.146992\n",
      "3 -0.306853  0.429388 -0.122535\n",
      "4  0.266165 -0.195261 -0.070904\n"
     ]
    }
   ],
   "source": [
    "\"\"\"\n",
    "Iterate through each row, while subtracting it from it's mean\n",
    "\"\"\"\n",
    "\n",
    "for i in range(df.shape[0]):\n",
    "    df.iloc[i] -= df.iloc[i].mean()\n",
    "print(df)"
   ]
  },
  {
   "cell_type": "markdown",
   "metadata": {},
   "source": [
    "---\n",
    "#### Q2. You have a DataFrame df that consists of 10 columns of floating-point numbers. Exactly 5 entries in each row are NaN values"
   ]
  },
  {
   "cell_type": "code",
   "execution_count": 29,
   "metadata": {},
   "outputs": [
    {
     "name": "stdout",
     "output_type": "stream",
     "text": [
      "      a   b     c     d     e     f     g     h     i     j\n",
      "0  0.04 NaN   NaN  0.25   NaN  0.43  0.71  0.51   NaN   NaN\n",
      "1   NaN NaN   NaN  0.04  0.76   NaN   NaN  0.67  0.76  0.16\n",
      "2   NaN NaN  0.50   NaN  0.31  0.40   NaN   NaN  0.24  0.01\n",
      "3  0.49 NaN   NaN  0.62  0.73  0.26  0.85   NaN   NaN   NaN\n",
      "4   NaN NaN  0.41   NaN  0.05   NaN  0.61   NaN  0.48  0.68\n",
      "0.04\n"
     ]
    }
   ],
   "source": [
    "# Given data\n",
    "data = [[0.04,  nan,  nan, 0.25,  nan, 0.43, 0.71, 0.51,  nan,  nan],\n",
    "        [ nan,  nan,  nan, 0.04, 0.76,  nan,  nan, 0.67, 0.76, 0.16],\n",
    "        [ nan,  nan, 0.5 ,  nan, 0.31, 0.4 ,  nan,  nan, 0.24, 0.01],\n",
    "        [0.49,  nan,  nan, 0.62, 0.73, 0.26, 0.85,  nan,  nan,  nan],\n",
    "        [ nan,  nan, 0.41,  nan, 0.05,  nan, 0.61,  nan, 0.48, 0.68]]\n",
    "\n",
    "df = pd.DataFrame(data, columns=list(string.ascii_lowercase[:10]))\n",
    "print(df)\n"
   ]
  },
  {
   "cell_type": "code",
   "execution_count": 63,
   "metadata": {},
   "outputs": [],
   "source": [
    "def nan_col_list(df):\n",
    "    \"\"\"\n",
    "    Returns a list of column names containing the third NaN of the row\n",
    "    \"\"\"\n",
    "    \n",
    "    r, c = df.shape\n",
    "    col_list = []\n",
    "    for i in range(r):\n",
    "        nan_count = 0\n",
    "        for j in range(c):\n",
    "            if np.isnan(df.iloc[i, j]):\n",
    "                nan_count += 1\n",
    "                \n",
    "            if nan_count == 3:\n",
    "                col_list.append(df.columns[j])\n",
    "                break\n",
    "                \n",
    "    return col_list"
   ]
  },
  {
   "cell_type": "code",
   "execution_count": 64,
   "metadata": {},
   "outputs": [
    {
     "name": "stdout",
     "output_type": "stream",
     "text": [
      "['e', 'c', 'd', 'h', 'd']\n"
     ]
    }
   ],
   "source": [
    "print(nan_col_list(df))"
   ]
  },
  {
   "cell_type": "markdown",
   "metadata": {},
   "source": [
    "---\n",
    "#### Q4. How do you count how many unique rows a DataFrame has (i.e. ignore all rows that are duplicates)?"
   ]
  },
  {
   "cell_type": "markdown",
   "metadata": {},
   "source": [
    "We can sum the result of duplicated() function applied on the whole dataframe."
   ]
  },
  {
   "cell_type": "code",
   "execution_count": 69,
   "metadata": {},
   "outputs": [
    {
     "name": "stdout",
     "output_type": "stream",
     "text": [
      "   0  1  2\n",
      "0  1  2  3\n",
      "1  1  2  3\n",
      "2  4  5  6\n"
     ]
    }
   ],
   "source": [
    "# The demo_df has 1 duplicate record\n",
    "\n",
    "demo_df = pd.DataFrame([[1, 2, 3], [1, 2, 3], [4, 5, 6]])\n",
    "print(demo_df)"
   ]
  },
  {
   "cell_type": "code",
   "execution_count": 70,
   "metadata": {},
   "outputs": [
    {
     "data": {
      "text/plain": [
       "1"
      ]
     },
     "execution_count": 70,
     "metadata": {},
     "output_type": "execute_result"
    }
   ],
   "source": [
    "demo_df.duplicated().sum()"
   ]
  },
  {
   "cell_type": "markdown",
   "metadata": {},
   "source": [
    "We subtract this value from the original number of rows, to get the number of unique rows present in the data frame."
   ]
  },
  {
   "cell_type": "code",
   "execution_count": 72,
   "metadata": {},
   "outputs": [
    {
     "name": "stdout",
     "output_type": "stream",
     "text": [
      "2\n"
     ]
    }
   ],
   "source": [
    "num_unique_rows = demo_df.shape[0] - demo_df.duplicated().sum()\n",
    "print(num_unique_rows)"
   ]
  },
  {
   "cell_type": "markdown",
   "metadata": {},
   "source": [
    "---\n",
    "#### Q5. A DataFrame has a column of groups 'grps' and and column of integer values 'vals'. For each group, find the sum of the three greatest values."
   ]
  },
  {
   "cell_type": "code",
   "execution_count": 75,
   "metadata": {},
   "outputs": [
    {
     "name": "stdout",
     "output_type": "stream",
     "text": [
      "  grps  vals\n",
      "0    a    12\n",
      "1    a   345\n",
      "2    a     3\n",
      "3    b     1\n",
      "4    b    45\n"
     ]
    }
   ],
   "source": [
    "df = pd.DataFrame({'grps': list('aaabbcaabcccbbc'), \\\n",
    "                   'vals': [12,345,3,1,45,14,4,52,54,23,235,21,57,3,87]})\n",
    "print(df.head())"
   ]
  },
  {
   "cell_type": "code",
   "execution_count": 91,
   "metadata": {},
   "outputs": [],
   "source": [
    "group = df.groupby('grps')\n",
    "final_data = []\n",
    "for name, g in group:\n",
    "    final_data.append([name, sum(g.sort_values('vals', ascending=False)['vals'].iloc[:3])])"
   ]
  },
  {
   "cell_type": "code",
   "execution_count": 92,
   "metadata": {},
   "outputs": [
    {
     "name": "stdout",
     "output_type": "stream",
     "text": [
      "   0    1\n",
      "0  a  409\n",
      "1  b  156\n",
      "2  c  345\n"
     ]
    }
   ],
   "source": [
    "result = pd.DataFrame(final_data)\n",
    "print(result)"
   ]
  },
  {
   "cell_type": "markdown",
   "metadata": {},
   "source": [
    "---\n",
    "### NUMPY "
   ]
  },
  {
   "cell_type": "markdown",
   "metadata": {},
   "source": [
    "#### Q1. Create a numpy array containing the first 100 elements(1-100). Now create a new array that has 1 in places where the element is divisible by 4 and 0 if not."
   ]
  },
  {
   "cell_type": "code",
   "execution_count": 97,
   "metadata": {},
   "outputs": [
    {
     "name": "stdout",
     "output_type": "stream",
     "text": [
      "[0 0 0 1 0 0 0 1 0 0 0 1 0 0 0 1 0 0 0 1 0 0 0 1 0 0 0 1 0 0 0 1 0 0 0 1 0\n",
      " 0 0 1 0 0 0 1 0 0 0 1 0 0 0 1 0 0 0 1 0 0 0 1 0 0 0 1 0 0 0 1 0 0 0 1 0 0\n",
      " 0 1 0 0 0 1 0 0 0 1 0 0 0 1 0 0 0 1 0 0 0 1 0 0 0 1]\n"
     ]
    }
   ],
   "source": [
    "data = np.array(range(1, 101))\n",
    "result = np.where(data % 4 == 0, 1, 0)\n",
    "print(result)"
   ]
  },
  {
   "cell_type": "markdown",
   "metadata": {},
   "source": [
    "---\n",
    "#### Q2. 2D Matrix multiplication using numpy arrays( The dimensions of the two arrays have to be given through user input. Values present in the arrays can be chosen by you )"
   ]
  },
  {
   "cell_type": "code",
   "execution_count": 98,
   "metadata": {},
   "outputs": [
    {
     "name": "stdout",
     "output_type": "stream",
     "text": [
      "Enter the shape of the first matrix: \n"
     ]
    },
    {
     "name": "stdin",
     "output_type": "stream",
     "text": [
      " 3 4\n"
     ]
    },
    {
     "name": "stdout",
     "output_type": "stream",
     "text": [
      "Enter the shape of the second matrix: \n"
     ]
    },
    {
     "name": "stdin",
     "output_type": "stream",
     "text": [
      " 4 5\n"
     ]
    }
   ],
   "source": [
    "print(\"Enter the shape of the first matrix: \")\n",
    "a, b = tuple(map(int, input().split(' ')))\n",
    "print(\"Enter the shape of the second matrix: \")\n",
    "c, d = tuple(map(int, input().split(' ')))\n",
    "\n",
    "m1 = np.random.random(size=(a,b))\n",
    "m2 = np.random.random(size=(c,d))\n",
    "print(np.dot(m1, m2))"
   ]
  },
  {
   "cell_type": "markdown",
   "metadata": {},
   "source": [
    "---\n",
    "#### Q3. Create a numpy array of length 100 containing random numbers in the range of (0-10). Now perform the following operations :\n"
   ]
  },
  {
   "cell_type": "code",
   "execution_count": 130,
   "metadata": {},
   "outputs": [
    {
     "name": "stdout",
     "output_type": "stream",
     "text": [
      "ORIGINAL ARRAY:\n",
      " [7 4 8 5 5 7 8 4 8 7 8 4 1 3 5 2 6 9 2 2 0 7 0 1 1 0 7 3 8 6 5 8 2 1 5 7 8\n",
      " 9 4 5 7 4 5 9 9 0 1 8 2 5 5 8 0 3 8 7 2 1 0 6 3 1 7 6 6 6 6 2 5 0 7 9 3 6\n",
      " 6 5 3 7 5 2 7 8 4 5 5 1 7 0 2 1 6 6 3 4 0 6 1 0 7 8]\n"
     ]
    }
   ],
   "source": [
    "data = np.random.randint(0, 10, size=100)\n",
    "print(\"ORIGINAL ARRAY:\\n\", data)"
   ]
  },
  {
   "cell_type": "markdown",
   "metadata": {},
   "source": [
    "##### i) Add 1 to each element"
   ]
  },
  {
   "cell_type": "code",
   "execution_count": 131,
   "metadata": {},
   "outputs": [],
   "source": [
    "data += 1"
   ]
  },
  {
   "cell_type": "markdown",
   "metadata": {},
   "source": [
    "##### ii) Multiply each element with 2"
   ]
  },
  {
   "cell_type": "code",
   "execution_count": 132,
   "metadata": {},
   "outputs": [],
   "source": [
    "data *= 2"
   ]
  },
  {
   "cell_type": "markdown",
   "metadata": {},
   "source": [
    "##### iii) Subtract 2 from each element"
   ]
  },
  {
   "cell_type": "code",
   "execution_count": 133,
   "metadata": {},
   "outputs": [],
   "source": [
    "data -= 2"
   ]
  },
  {
   "cell_type": "code",
   "execution_count": 134,
   "metadata": {},
   "outputs": [
    {
     "name": "stdout",
     "output_type": "stream",
     "text": [
      "FINAL ARRAY:\n",
      " [14  8 16 10 10 14 16  8 16 14 16  8  2  6 10  4 12 18  4  4  0 14  0  2\n",
      "  2  0 14  6 16 12 10 16  4  2 10 14 16 18  8 10 14  8 10 18 18  0  2 16\n",
      "  4 10 10 16  0  6 16 14  4  2  0 12  6  2 14 12 12 12 12  4 10  0 14 18\n",
      "  6 12 12 10  6 14 10  4 14 16  8 10 10  2 14  0  4  2 12 12  6  8  0 12\n",
      "  2  0 14 16]\n"
     ]
    }
   ],
   "source": [
    "print(\"FINAL ARRAY:\\n\", data)"
   ]
  },
  {
   "cell_type": "markdown",
   "metadata": {},
   "source": [
    "---\n",
    "### MATPLOTLIB"
   ]
  },
  {
   "cell_type": "markdown",
   "metadata": {},
   "source": [
    "#### Q1. Find the top 5 movies using a count plot."
   ]
  },
  {
   "cell_type": "code",
   "execution_count": 152,
   "metadata": {},
   "outputs": [
    {
     "data": {
      "text/html": [
       "<div>\n",
       "<style scoped>\n",
       "    .dataframe tbody tr th:only-of-type {\n",
       "        vertical-align: middle;\n",
       "    }\n",
       "\n",
       "    .dataframe tbody tr th {\n",
       "        vertical-align: top;\n",
       "    }\n",
       "\n",
       "    .dataframe thead th {\n",
       "        text-align: right;\n",
       "    }\n",
       "</style>\n",
       "<table border=\"1\" class=\"dataframe\">\n",
       "  <thead>\n",
       "    <tr style=\"text-align: right;\">\n",
       "      <th></th>\n",
       "      <th>star_rating</th>\n",
       "      <th>title</th>\n",
       "      <th>content_rating</th>\n",
       "      <th>genre</th>\n",
       "      <th>duration</th>\n",
       "      <th>actors_list</th>\n",
       "    </tr>\n",
       "  </thead>\n",
       "  <tbody>\n",
       "    <tr>\n",
       "      <th>0</th>\n",
       "      <td>9.3</td>\n",
       "      <td>The Shawshank Redemption</td>\n",
       "      <td>R</td>\n",
       "      <td>Crime</td>\n",
       "      <td>142</td>\n",
       "      <td>[u'Tim Robbins', u'Morgan Freeman', u'Bob Gunt...</td>\n",
       "    </tr>\n",
       "    <tr>\n",
       "      <th>1</th>\n",
       "      <td>9.2</td>\n",
       "      <td>The Godfather</td>\n",
       "      <td>R</td>\n",
       "      <td>Crime</td>\n",
       "      <td>175</td>\n",
       "      <td>[u'Marlon Brando', u'Al Pacino', u'James Caan']</td>\n",
       "    </tr>\n",
       "    <tr>\n",
       "      <th>2</th>\n",
       "      <td>9.1</td>\n",
       "      <td>The Godfather: Part II</td>\n",
       "      <td>R</td>\n",
       "      <td>Crime</td>\n",
       "      <td>200</td>\n",
       "      <td>[u'Al Pacino', u'Robert De Niro', u'Robert Duv...</td>\n",
       "    </tr>\n",
       "    <tr>\n",
       "      <th>3</th>\n",
       "      <td>9.0</td>\n",
       "      <td>The Dark Knight</td>\n",
       "      <td>PG-13</td>\n",
       "      <td>Action</td>\n",
       "      <td>152</td>\n",
       "      <td>[u'Christian Bale', u'Heath Ledger', u'Aaron E...</td>\n",
       "    </tr>\n",
       "    <tr>\n",
       "      <th>4</th>\n",
       "      <td>8.9</td>\n",
       "      <td>Pulp Fiction</td>\n",
       "      <td>R</td>\n",
       "      <td>Crime</td>\n",
       "      <td>154</td>\n",
       "      <td>[u'John Travolta', u'Uma Thurman', u'Samuel L....</td>\n",
       "    </tr>\n",
       "  </tbody>\n",
       "</table>\n",
       "</div>"
      ],
      "text/plain": [
       "   star_rating                     title content_rating   genre  duration  \\\n",
       "0          9.3  The Shawshank Redemption              R   Crime       142   \n",
       "1          9.2             The Godfather              R   Crime       175   \n",
       "2          9.1    The Godfather: Part II              R   Crime       200   \n",
       "3          9.0           The Dark Knight          PG-13  Action       152   \n",
       "4          8.9              Pulp Fiction              R   Crime       154   \n",
       "\n",
       "                                         actors_list  \n",
       "0  [u'Tim Robbins', u'Morgan Freeman', u'Bob Gunt...  \n",
       "1    [u'Marlon Brando', u'Al Pacino', u'James Caan']  \n",
       "2  [u'Al Pacino', u'Robert De Niro', u'Robert Duv...  \n",
       "3  [u'Christian Bale', u'Heath Ledger', u'Aaron E...  \n",
       "4  [u'John Travolta', u'Uma Thurman', u'Samuel L....  "
      ]
     },
     "execution_count": 152,
     "metadata": {},
     "output_type": "execute_result"
    }
   ],
   "source": [
    "# Loading the movie data set\n",
    "df = pd.read_csv(\"movies_dataset.csv\")\n",
    "df.head()"
   ]
  },
  {
   "cell_type": "code",
   "execution_count": 183,
   "metadata": {},
   "outputs": [
    {
     "data": {
      "image/png": "[encoded data removed]",
      "text/plain": [
       "<Figure size 2160x576 with 1 Axes>"
      ]
     },
     "metadata": {
      "needs_background": "light"
     },
     "output_type": "display_data"
    }
   ],
   "source": [
    "# Line plot for star rating of each movie\n",
    "\n",
    "plt.figure(figsize=(30, 8))\n",
    "plt.title(\"Rating graph\")\n",
    "plt.xlabel(\"Movie\")\n",
    "plt.ylabel(\"Rating\")\n",
    "plt.xticks(rotation=90)\n",
    "plt.plot('title', 'star_rating', data=df.sort_values('star_rating', ascending=False).iloc[:30])\n",
    "plt.show()"
   ]
  },
  {
   "cell_type": "markdown",
   "metadata": {},
   "source": [
    "From the graph, we can deduce that the top 5 movies are :\n",
    "- The Shawshank Redemption\n",
    "- The Godfather\n",
    "- The Godfather, Part II\n",
    "- The Dark Knight\n",
    "- Pulp Fiction"
   ]
  },
  {
   "cell_type": "markdown",
   "metadata": {},
   "source": [
    "---\n",
    "#### Q2. Display the distribution of the duration column."
   ]
  },
  {
   "cell_type": "code",
   "execution_count": 184,
   "metadata": {},
   "outputs": [
    {
     "data": {
      "image/png": "[encoded data removed]",
      "text/plain": [
       "<Figure size 1440x360 with 1 Axes>"
      ]
     },
     "metadata": {
      "needs_background": "light"
     },
     "output_type": "display_data"
    }
   ],
   "source": [
    "plt.figure(figsize=(20, 5))\n",
    "plt.title(\"Distribution of 'Duration column'\")\n",
    "plt.xlabel(\"Duration\")\n",
    "plt.ylabel(\"Density\")\n",
    "df['duration'].plot.kde()\n",
    "plt.show()"
   ]
  }
 ],
 "metadata": {
  "kernelspec": {
   "display_name": "Python 3",
   "language": "python",
   "name": "python3"
  },
  "language_info": {
   "codemirror_mode": {
    "name": "ipython",
    "version": 3
   },
   "file_extension": ".py",
   "mimetype": "text/x-python",
   "name": "python",
   "nbconvert_exporter": "python",
   "pygments_lexer": "ipython3",
   "version": "3.7.6"
  }
 },
 "nbformat": 4,
 "nbformat_minor": 4
}
