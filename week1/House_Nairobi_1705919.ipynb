{
 "cells": [
  {
   "cell_type": "markdown",
   "metadata": {},
   "source": [
    "# Assignment 1 : Introduction to Python\n",
    "Siddharth Panda 1705919 (House Nairobi)"
   ]
  },
  {
   "cell_type": "markdown",
   "metadata": {},
   "source": [
    "## Part 1"
   ]
  },
  {
   "cell_type": "markdown",
   "metadata": {},
   "source": [
    "### Q1. Write a python program to create a set of first N Prime Numbers."
   ]
  },
  {
   "cell_type": "code",
   "execution_count": 1,
   "metadata": {},
   "outputs": [],
   "source": [
    "def isPrime(x):\n",
    "    \"\"\"\n",
    "    Checks if a number is prime or not.\n",
    "    \"\"\"\n",
    "    if x == 0 or x == 1:\n",
    "        return False\n",
    "    for i in range(2, int(x ** 0.5) + 1):\n",
    "        if x % i == 0:\n",
    "            return False\n",
    "    return True"
   ]
  },
  {
   "cell_type": "code",
   "execution_count": 2,
   "metadata": {},
   "outputs": [
    {
     "name": "stdin",
     "output_type": "stream",
     "text": [
      "Enter the number of prime numbers required:  10\n"
     ]
    },
    {
     "name": "stdout",
     "output_type": "stream",
     "text": [
      "{2, 3, 5, 7, 11, 13, 17, 19, 23, 29}\n"
     ]
    }
   ],
   "source": [
    "primes = set()\n",
    "N = int(input(\"Enter the number of prime numbers required: \"))\n",
    "\n",
    "num = 0\n",
    "while len(primes) < N:\n",
    "    if isPrime(num):\n",
    "        primes.add(num)\n",
    "        \n",
    "    num += 1\n",
    "    \n",
    "print(primes)"
   ]
  },
  {
   "cell_type": "markdown",
   "metadata": {},
   "source": [
    "---\n",
    "### Q3. Write a program to check whether a tuple is a subset of another tuple or not."
   ]
  },
  {
   "cell_type": "code",
   "execution_count": 3,
   "metadata": {},
   "outputs": [],
   "source": [
    "def check_subset(t1, t2):\n",
    "    \"\"\"\n",
    "    Checks if t1 is a subset of t2\n",
    "    \"\"\"\n",
    "    \n",
    "    if len(t1) == 0:\n",
    "        if len(t2) == 0:\n",
    "            return True\n",
    "        return False\n",
    "    \n",
    "    isSubset = False\n",
    "    \n",
    "    for i in range(len(t2)):\n",
    "        if t2[i] == t1[0]:\n",
    "            idx_t2 = i+1\n",
    "            idx_t1 = 1\n",
    "            while idx_t2 < len(t2) and idx_t1 < len(t1):\n",
    "                if t1[idx_t1] == t2[idx_t2]:\n",
    "                    idx_t1 += 1\n",
    "                    idx_t2 += 1\n",
    "                else:\n",
    "                    break\n",
    "            if idx_t1 == len(t1):\n",
    "                isSubset = True\n",
    "                break\n",
    "\n",
    "    if isSubset:\n",
    "        return True\n",
    "    \n",
    "    return False"
   ]
  },
  {
   "cell_type": "code",
   "execution_count": 4,
   "metadata": {},
   "outputs": [
    {
     "name": "stdout",
     "output_type": "stream",
     "text": [
      "False\n",
      "True\n"
     ]
    }
   ],
   "source": [
    "print(check_subset((6,5), (1,2,3,4,5,6)))\n",
    "print(check_subset((4,5,6), (1,2,3,4,5,6)))"
   ]
  },
  {
   "cell_type": "markdown",
   "metadata": {},
   "source": [
    "---\n",
    "### Q4. Write a program to count  the frequencies in a list using dictionary in Python"
   ]
  },
  {
   "cell_type": "code",
   "execution_count": 5,
   "metadata": {},
   "outputs": [
    {
     "name": "stdout",
     "output_type": "stream",
     "text": [
      "{1: 4, 4: 3, 5: 4, 6: 3, 2: 2, 3: 2}\n"
     ]
    }
   ],
   "source": [
    "elements = [1, 1, 4, 5, 6, 2, 3, 5, 6, 1, 3, 4, 5, 2, 1, 4, 5, 6]\n",
    "freq = {}\n",
    "\n",
    "for e in elements:\n",
    "    if freq.get(e, None) == None:\n",
    "        freq[e] = 1\n",
    "    else:\n",
    "        freq[e] += 1\n",
    "        \n",
    "print(freq)\n",
    "        "
   ]
  },
  {
   "cell_type": "markdown",
   "metadata": {},
   "source": [
    "---\n",
    "### Q5. Write a program to convert a dictionary to a list of tuples."
   ]
  },
  {
   "cell_type": "code",
   "execution_count": 6,
   "metadata": {},
   "outputs": [
    {
     "name": "stdout",
     "output_type": "stream",
     "text": [
      "[(1, 4), (4, 3), (5, 4), (6, 3), (2, 2), (3, 2)]\n"
     ]
    }
   ],
   "source": [
    "dictionary = {1: 4, 4: 3, 5: 4, 6: 3, 2: 2, 3: 2}\n",
    "asTuples = [(d, dictionary[d]) for d in dictionary]\n",
    "    \n",
    "print(asTuples)"
   ]
  },
  {
   "cell_type": "markdown",
   "metadata": {},
   "source": [
    "---\n",
    "## Part 2"
   ]
  },
  {
   "cell_type": "markdown",
   "metadata": {},
   "source": [
    "### Q2. Write a program to implement a Rock Paper Scissor game using Switch case and conditionals statements."
   ]
  },
  {
   "cell_type": "code",
   "execution_count": 7,
   "metadata": {},
   "outputs": [],
   "source": [
    "import random\n",
    "\n",
    "possible_moves = ['r', 'p', 's']"
   ]
  },
  {
   "cell_type": "code",
   "execution_count": 8,
   "metadata": {},
   "outputs": [
    {
     "name": "stdin",
     "output_type": "stream",
     "text": [
      "Enter your input:  r\n"
     ]
    },
    {
     "name": "stdout",
     "output_type": "stream",
     "text": [
      "Computer chose scissors. You win!\n"
     ]
    },
    {
     "name": "stdin",
     "output_type": "stream",
     "text": [
      "Enter your input:  q\n"
     ]
    },
    {
     "name": "stdout",
     "output_type": "stream",
     "text": [
      "Goodbye!\n"
     ]
    }
   ],
   "source": [
    "\"\"\"\n",
    "- User has to choose between r, p and s.\n",
    "- The computer choice is random.\n",
    "- Game ends when user enters 'q'.\n",
    "\"\"\"\n",
    "\n",
    "\n",
    "while True:\n",
    "    user_input = input(\"Enter your input: \")\n",
    "        \n",
    "    if user_input == \"q\":\n",
    "        print(\"Goodbye!\")\n",
    "        break\n",
    "    \n",
    "    if user_input not in possible_moves:\n",
    "        print(\"Invalid move! Enter again.\")\n",
    "        continue\n",
    "            \n",
    "    computer_input = random.choice(possible_moves)\n",
    "    if user_input == computer_input:\n",
    "        print(\"No result. Again!\")\n",
    "        continue\n",
    "    \n",
    "    if user_input == 'r':\n",
    "        if computer_input == 'p':\n",
    "            print(\"Computer chose paper. You loose!\")\n",
    "        elif computer_input == 's':\n",
    "            print(\"Computer chose scissors. You win!\")\n",
    "    if user_input == 'p':\n",
    "        if computer_input == 'r':\n",
    "            print(\"Computer chose rock. You win!\")\n",
    "        elif computer_input == 's':\n",
    "            print(\"Computer chose scissors. You loose!\")\n",
    "    if user_input == 's':\n",
    "        if computer_input == 'p':\n",
    "            print(\"Computer chose paper. You win!\")\n",
    "        elif computer_input == 'r':\n",
    "            print(\"Computer chose rock. You loose!\")\n"
   ]
  },
  {
   "cell_type": "code",
   "execution_count": null,
   "metadata": {},
   "outputs": [],
   "source": []
  }
 ],
 "metadata": {
  "kernelspec": {
   "display_name": "Python 3",
   "language": "python",
   "name": "python3"
  },
  "language_info": {
   "codemirror_mode": {
    "name": "ipython",
    "version": 3
   },
   "file_extension": ".py",
   "mimetype": "text/x-python",
   "name": "python",
   "nbconvert_exporter": "python",
   "pygments_lexer": "ipython3",
   "version": "3.7.6"
  }
 },
 "nbformat": 4,
 "nbformat_minor": 4
}
